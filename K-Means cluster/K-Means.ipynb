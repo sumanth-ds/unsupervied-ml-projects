{
 "cells": [
  {
   "cell_type": "code",
   "execution_count": 2,
   "id": "9aa4aeb1",
   "metadata": {},
   "outputs": [],
   "source": [
    "import os\n",
    "import numpy as np\n",
    "import pandas as pd\n",
    "import matplotlib.pyplot as plt\n",
    "import seaborn as sns\n",
    "import warnings\n",
    "warnings.filterwarnings('ignore')"
   ]
  },
  {
   "cell_type": "code",
   "execution_count": 4,
   "id": "8ac89342",
   "metadata": {},
   "outputs": [],
   "source": [
    "data = pd.read_csv(\"Mall_Customers.csv\")"
   ]
  },
  {
   "cell_type": "code",
   "execution_count": 5,
   "id": "8fe06367",
   "metadata": {},
   "outputs": [
    {
     "data": {
      "text/html": [
       "<div>\n",
       "<style scoped>\n",
       "    .dataframe tbody tr th:only-of-type {\n",
       "        vertical-align: middle;\n",
       "    }\n",
       "\n",
       "    .dataframe tbody tr th {\n",
       "        vertical-align: top;\n",
       "    }\n",
       "\n",
       "    .dataframe thead th {\n",
       "        text-align: right;\n",
       "    }\n",
       "</style>\n",
       "<table border=\"1\" class=\"dataframe\">\n",
       "  <thead>\n",
       "    <tr style=\"text-align: right;\">\n",
       "      <th></th>\n",
       "      <th>CustomerID</th>\n",
       "      <th>Gender</th>\n",
       "      <th>Age</th>\n",
       "      <th>Annual Income (k$)</th>\n",
       "      <th>Spending Score (1-100)</th>\n",
       "    </tr>\n",
       "  </thead>\n",
       "  <tbody>\n",
       "    <tr>\n",
       "      <th>0</th>\n",
       "      <td>1</td>\n",
       "      <td>Male</td>\n",
       "      <td>19</td>\n",
       "      <td>15</td>\n",
       "      <td>39</td>\n",
       "    </tr>\n",
       "    <tr>\n",
       "      <th>1</th>\n",
       "      <td>2</td>\n",
       "      <td>Male</td>\n",
       "      <td>21</td>\n",
       "      <td>15</td>\n",
       "      <td>81</td>\n",
       "    </tr>\n",
       "    <tr>\n",
       "      <th>2</th>\n",
       "      <td>3</td>\n",
       "      <td>Female</td>\n",
       "      <td>20</td>\n",
       "      <td>16</td>\n",
       "      <td>6</td>\n",
       "    </tr>\n",
       "    <tr>\n",
       "      <th>3</th>\n",
       "      <td>4</td>\n",
       "      <td>Female</td>\n",
       "      <td>23</td>\n",
       "      <td>16</td>\n",
       "      <td>77</td>\n",
       "    </tr>\n",
       "    <tr>\n",
       "      <th>4</th>\n",
       "      <td>5</td>\n",
       "      <td>Female</td>\n",
       "      <td>31</td>\n",
       "      <td>17</td>\n",
       "      <td>40</td>\n",
       "    </tr>\n",
       "  </tbody>\n",
       "</table>\n",
       "</div>"
      ],
      "text/plain": [
       "   CustomerID  Gender  Age  Annual Income (k$)  Spending Score (1-100)\n",
       "0           1    Male   19                  15                      39\n",
       "1           2    Male   21                  15                      81\n",
       "2           3  Female   20                  16                       6\n",
       "3           4  Female   23                  16                      77\n",
       "4           5  Female   31                  17                      40"
      ]
     },
     "execution_count": 5,
     "metadata": {},
     "output_type": "execute_result"
    }
   ],
   "source": [
    "data.head()"
   ]
  },
  {
   "cell_type": "code",
   "execution_count": 6,
   "id": "519f1710",
   "metadata": {},
   "outputs": [
    {
     "data": {
      "text/plain": [
       "CustomerID                0\n",
       "Gender                    0\n",
       "Age                       0\n",
       "Annual Income (k$)        0\n",
       "Spending Score (1-100)    0\n",
       "dtype: int64"
      ]
     },
     "execution_count": 6,
     "metadata": {},
     "output_type": "execute_result"
    }
   ],
   "source": [
    "data.isnull().sum()"
   ]
  },
  {
   "cell_type": "code",
   "execution_count": 9,
   "id": "3f007349",
   "metadata": {},
   "outputs": [],
   "source": [
    "x= data.iloc[:,3:].values"
   ]
  },
  {
   "cell_type": "code",
   "execution_count": 10,
   "id": "2ed57788",
   "metadata": {},
   "outputs": [],
   "source": [
    "from sklearn.preprocessing import StandardScaler\n",
    "\n",
    "scaler = StandardScaler()\n",
    "x = scaler.fit_transform(x)\n"
   ]
  },
  {
   "cell_type": "markdown",
   "id": "4ba6b02f",
   "metadata": {},
   "source": [
    "# Building Cluster Basis K - Means approach"
   ]
  },
  {
   "cell_type": "code",
   "execution_count": 37,
   "id": "7d5161fc",
   "metadata": {},
   "outputs": [],
   "source": [
    "from sklearn.cluster import KMeans\n",
    "\n",
    "var = []\n",
    "for i in range(1,14):\n",
    "    km = KMeans(n_clusters=i , random_state=3)\n",
    "    km.fit(x)\n",
    "    var.append(km.inertia_)"
   ]
  },
  {
   "cell_type": "code",
   "execution_count": 38,
   "id": "aa823378",
   "metadata": {},
   "outputs": [],
   "source": [
    "l=[]\n",
    "for i in range(1,14):\n",
    "    l.append(i)"
   ]
  },
  {
   "cell_type": "code",
   "execution_count": 39,
   "id": "661c3e1d",
   "metadata": {},
   "outputs": [
    {
     "data": {
      "text/plain": [
       "<Axes: >"
      ]
     },
     "execution_count": 39,
     "metadata": {},
     "output_type": "execute_result"
    },
    {
     "data": {
      "image/png": "[encoded data removed]",
      "text/plain": [
       "<Figure size 640x480 with 1 Axes>"
      ]
     },
     "metadata": {},
     "output_type": "display_data"
    }
   ],
   "source": [
    "sns.pointplot(x=l, y=var)"
   ]
  },
  {
   "cell_type": "code",
   "execution_count": 41,
   "id": "52e7c016",
   "metadata": {},
   "outputs": [
    {
     "data": {
      "text/plain": [
       "array([4, 3, 4, 3, 4, 3, 4, 3, 4, 3, 4, 3, 4, 3, 4, 3, 4, 3, 4, 3, 4, 3,\n",
       "       4, 3, 4, 3, 4, 3, 4, 3, 4, 3, 4, 3, 4, 3, 4, 3, 4, 3, 4, 3, 4, 0,\n",
       "       4, 3, 0, 0, 0, 0, 0, 0, 0, 0, 0, 0, 0, 0, 0, 0, 0, 0, 0, 0, 0, 0,\n",
       "       0, 0, 0, 0, 0, 0, 0, 0, 0, 0, 0, 0, 0, 0, 0, 0, 0, 0, 0, 0, 0, 0,\n",
       "       0, 0, 0, 0, 0, 0, 0, 0, 0, 0, 0, 0, 0, 0, 0, 0, 0, 0, 0, 0, 0, 0,\n",
       "       0, 0, 0, 0, 0, 0, 0, 0, 0, 0, 0, 0, 0, 2, 1, 2, 0, 2, 1, 2, 1, 2,\n",
       "       1, 2, 1, 2, 1, 2, 1, 2, 1, 2, 0, 2, 1, 2, 1, 2, 1, 2, 1, 2, 1, 2,\n",
       "       1, 2, 1, 2, 1, 2, 1, 2, 1, 2, 1, 2, 1, 2, 1, 2, 1, 2, 1, 2, 1, 2,\n",
       "       1, 2, 1, 2, 1, 2, 1, 2, 1, 2, 1, 2, 1, 2, 1, 2, 1, 2, 1, 2, 1, 2,\n",
       "       1, 2])"
      ]
     },
     "execution_count": 41,
     "metadata": {},
     "output_type": "execute_result"
    }
   ],
   "source": [
    "k_means = KMeans(n_clusters=5 , random_state=3)\n",
    "k_means.fit(x)\n",
    "labels = k_means.labels_\n",
    "labels"
   ]
  },
  {
   "cell_type": "code",
   "execution_count": 42,
   "id": "b33f20d1",
   "metadata": {},
   "outputs": [],
   "source": [
    "from sklearn.metrics import silhouette_samples , silhouette_score\n"
   ]
  },
  {
   "cell_type": "code",
   "execution_count": 43,
   "id": "597b17a0",
   "metadata": {},
   "outputs": [
    {
     "data": {
      "text/plain": [
       "0.5539423799434205"
      ]
     },
     "execution_count": 43,
     "metadata": {},
     "output_type": "execute_result"
    }
   ],
   "source": [
    "silhouette_score(x , labels , random_state=3)"
   ]
  },
  {
   "cell_type": "code",
   "execution_count": 50,
   "id": "26dd115c",
   "metadata": {},
   "outputs": [],
   "source": [
    "combined = pd.concat([data , pd.DataFrame(labels)] , axis = 1)"
   ]
  },
  {
   "cell_type": "code",
   "execution_count": 57,
   "id": "789423bd",
   "metadata": {},
   "outputs": [],
   "source": [
    "combined = combined.rename(columns= {0:\"Cluster\"})"
   ]
  },
  {
   "cell_type": "code",
   "execution_count": 58,
   "id": "d462f55f",
   "metadata": {},
   "outputs": [
    {
     "data": {
      "text/html": [
       "<div>\n",
       "<style scoped>\n",
       "    .dataframe tbody tr th:only-of-type {\n",
       "        vertical-align: middle;\n",
       "    }\n",
       "\n",
       "    .dataframe tbody tr th {\n",
       "        vertical-align: top;\n",
       "    }\n",
       "\n",
       "    .dataframe thead th {\n",
       "        text-align: right;\n",
       "    }\n",
       "</style>\n",
       "<table border=\"1\" class=\"dataframe\">\n",
       "  <thead>\n",
       "    <tr style=\"text-align: right;\">\n",
       "      <th></th>\n",
       "      <th>CustomerID</th>\n",
       "      <th>Gender</th>\n",
       "      <th>Age</th>\n",
       "      <th>Annual Income (k$)</th>\n",
       "      <th>Spending Score (1-100)</th>\n",
       "      <th>Cluster</th>\n",
       "    </tr>\n",
       "  </thead>\n",
       "  <tbody>\n",
       "    <tr>\n",
       "      <th>0</th>\n",
       "      <td>1</td>\n",
       "      <td>Male</td>\n",
       "      <td>19</td>\n",
       "      <td>15</td>\n",
       "      <td>39</td>\n",
       "      <td>4</td>\n",
       "    </tr>\n",
       "    <tr>\n",
       "      <th>1</th>\n",
       "      <td>2</td>\n",
       "      <td>Male</td>\n",
       "      <td>21</td>\n",
       "      <td>15</td>\n",
       "      <td>81</td>\n",
       "      <td>3</td>\n",
       "    </tr>\n",
       "    <tr>\n",
       "      <th>2</th>\n",
       "      <td>3</td>\n",
       "      <td>Female</td>\n",
       "      <td>20</td>\n",
       "      <td>16</td>\n",
       "      <td>6</td>\n",
       "      <td>4</td>\n",
       "    </tr>\n",
       "    <tr>\n",
       "      <th>3</th>\n",
       "      <td>4</td>\n",
       "      <td>Female</td>\n",
       "      <td>23</td>\n",
       "      <td>16</td>\n",
       "      <td>77</td>\n",
       "      <td>3</td>\n",
       "    </tr>\n",
       "    <tr>\n",
       "      <th>4</th>\n",
       "      <td>5</td>\n",
       "      <td>Female</td>\n",
       "      <td>31</td>\n",
       "      <td>17</td>\n",
       "      <td>40</td>\n",
       "      <td>4</td>\n",
       "    </tr>\n",
       "    <tr>\n",
       "      <th>...</th>\n",
       "      <td>...</td>\n",
       "      <td>...</td>\n",
       "      <td>...</td>\n",
       "      <td>...</td>\n",
       "      <td>...</td>\n",
       "      <td>...</td>\n",
       "    </tr>\n",
       "    <tr>\n",
       "      <th>195</th>\n",
       "      <td>196</td>\n",
       "      <td>Female</td>\n",
       "      <td>35</td>\n",
       "      <td>120</td>\n",
       "      <td>79</td>\n",
       "      <td>2</td>\n",
       "    </tr>\n",
       "    <tr>\n",
       "      <th>196</th>\n",
       "      <td>197</td>\n",
       "      <td>Female</td>\n",
       "      <td>45</td>\n",
       "      <td>126</td>\n",
       "      <td>28</td>\n",
       "      <td>1</td>\n",
       "    </tr>\n",
       "    <tr>\n",
       "      <th>197</th>\n",
       "      <td>198</td>\n",
       "      <td>Male</td>\n",
       "      <td>32</td>\n",
       "      <td>126</td>\n",
       "      <td>74</td>\n",
       "      <td>2</td>\n",
       "    </tr>\n",
       "    <tr>\n",
       "      <th>198</th>\n",
       "      <td>199</td>\n",
       "      <td>Male</td>\n",
       "      <td>32</td>\n",
       "      <td>137</td>\n",
       "      <td>18</td>\n",
       "      <td>1</td>\n",
       "    </tr>\n",
       "    <tr>\n",
       "      <th>199</th>\n",
       "      <td>200</td>\n",
       "      <td>Male</td>\n",
       "      <td>30</td>\n",
       "      <td>137</td>\n",
       "      <td>83</td>\n",
       "      <td>2</td>\n",
       "    </tr>\n",
       "  </tbody>\n",
       "</table>\n",
       "<p>200 rows × 6 columns</p>\n",
       "</div>"
      ],
      "text/plain": [
       "     CustomerID  Gender  Age  Annual Income (k$)  Spending Score (1-100)  \\\n",
       "0             1    Male   19                  15                      39   \n",
       "1             2    Male   21                  15                      81   \n",
       "2             3  Female   20                  16                       6   \n",
       "3             4  Female   23                  16                      77   \n",
       "4             5  Female   31                  17                      40   \n",
       "..          ...     ...  ...                 ...                     ...   \n",
       "195         196  Female   35                 120                      79   \n",
       "196         197  Female   45                 126                      28   \n",
       "197         198    Male   32                 126                      74   \n",
       "198         199    Male   32                 137                      18   \n",
       "199         200    Male   30                 137                      83   \n",
       "\n",
       "     Cluster  \n",
       "0          4  \n",
       "1          3  \n",
       "2          4  \n",
       "3          3  \n",
       "4          4  \n",
       "..       ...  \n",
       "195        2  \n",
       "196        1  \n",
       "197        2  \n",
       "198        1  \n",
       "199        2  \n",
       "\n",
       "[200 rows x 6 columns]"
      ]
     },
     "execution_count": 58,
     "metadata": {},
     "output_type": "execute_result"
    }
   ],
   "source": [
    "combined"
   ]
  },
  {
   "cell_type": "code",
   "execution_count": 60,
   "id": "ea9d0966",
   "metadata": {},
   "outputs": [],
   "source": [
    "combined.to_csv('mall_customer_final_cluster.csv')"
   ]
  },
  {
   "cell_type": "code",
   "execution_count": 67,
   "id": "a005b64b",
   "metadata": {},
   "outputs": [
    {
     "data": {
      "image/png": "[encoded data removed]",
      "text/plain": [
       "<Figure size 640x480 with 1 Axes>"
      ]
     },
     "metadata": {},
     "output_type": "display_data"
    }
   ],
   "source": [
    "plt.scatter(x[labels == 0 ,0 ] , x[labels == 0,1] , s = 100 , c = 'red' , label = 'Cluster1')\n",
    "plt.scatter(x[labels == 1 ,0 ] , x[labels == 1,1] , s = 100 , c = 'blue' , label = 'Cluster2')\n",
    "plt.scatter(x[labels == 2 ,0 ] , x[labels == 2,1] , s = 100 , c = 'black' , label = 'Cluster3')\n",
    "plt.scatter(x[labels == 3 ,0 ] , x[labels == 3,1] , s = 100 , c = 'green' , label = 'Cluster4')\n",
    "plt.scatter(x[labels == 4 ,0 ] , x[labels == 4,1] , s = 100 , c = 'yellow' , label = 'Cluster5')\n",
    "\n",
    "\n",
    "plt.show()"
   ]
  },
  {
   "cell_type": "markdown",
   "id": "2ae45f8d",
   "metadata": {},
   "source": [
    "# Hierarchal Cluster"
   ]
  },
  {
   "cell_type": "code",
   "execution_count": 68,
   "id": "3c5bbdb1",
   "metadata": {},
   "outputs": [
    {
     "data": {
      "text/plain": [
       "array([[4.80000000e+01, 4.90000000e+01, 0.00000000e+00, 2.00000000e+00],\n",
       "       [6.50000000e+01, 6.80000000e+01, 0.00000000e+00, 2.00000000e+00],\n",
       "       [1.56000000e+02, 1.58000000e+02, 0.00000000e+00, 2.00000000e+00],\n",
       "       [1.29000000e+02, 1.31000000e+02, 0.00000000e+00, 2.00000000e+00],\n",
       "       [1.70000000e+02, 1.74000000e+02, 3.81694292e-02, 2.00000000e+00],\n",
       "       [6.30000000e+01, 2.01000000e+02, 3.81694292e-02, 3.00000000e+00],\n",
       "       [5.10000000e+01, 5.30000000e+01, 3.81694292e-02, 2.00000000e+00],\n",
       "       [1.01000000e+02, 1.09000000e+02, 3.81694292e-02, 2.00000000e+00],\n",
       "       [9.20000000e+01, 9.90000000e+01, 3.81694292e-02, 2.00000000e+00],\n",
       "       [9.80000000e+01, 1.05000000e+02, 3.81694292e-02, 2.00000000e+00],\n",
       "       [9.40000000e+01, 2.09000000e+02, 3.81694292e-02, 3.00000000e+00],\n",
       "       [1.07000000e+02, 1.13000000e+02, 3.81694292e-02, 2.00000000e+00],\n",
       "       [2.10000000e+01, 2.30000000e+01, 3.81694292e-02, 2.00000000e+00],\n",
       "       [1.50000000e+02, 1.54000000e+02, 3.88215607e-02, 2.00000000e+00],\n",
       "       [1.51000000e+02, 1.55000000e+02, 3.88215607e-02, 2.00000000e+00],\n",
       "       [6.00000000e+01, 6.10000000e+01, 3.88215607e-02, 2.00000000e+00],\n",
       "       [1.03000000e+02, 1.04000000e+02, 3.88215607e-02, 2.00000000e+00],\n",
       "       [1.19000000e+02, 1.20000000e+02, 3.88215607e-02, 2.00000000e+00],\n",
       "       [6.70000000e+01, 6.90000000e+01, 3.88215607e-02, 2.00000000e+00],\n",
       "       [6.40000000e+01, 6.60000000e+01, 3.88215607e-02, 2.00000000e+00],\n",
       "       [7.40000000e+01, 7.70000000e+01, 3.88215607e-02, 2.00000000e+00],\n",
       "       [8.50000000e+01, 2.20000000e+02, 3.88215607e-02, 3.00000000e+00],\n",
       "       [7.80000000e+01, 8.00000000e+01, 3.88215607e-02, 2.00000000e+00],\n",
       "       [7.60000000e+01, 2.22000000e+02, 3.88215607e-02, 3.00000000e+00],\n",
       "       [7.50000000e+01, 2.23000000e+02, 3.88215607e-02, 4.00000000e+00],\n",
       "       [9.70000000e+01, 2.08000000e+02, 3.88215607e-02, 3.00000000e+00],\n",
       "       [7.90000000e+01, 8.20000000e+01, 3.88215607e-02, 2.00000000e+00],\n",
       "       [8.10000000e+01, 2.24000000e+02, 3.88215607e-02, 5.00000000e+00],\n",
       "       [1.00000000e+02, 2.10000000e+02, 3.88215607e-02, 4.00000000e+00],\n",
       "       [1.49000000e+02, 2.14000000e+02, 3.88215607e-02, 3.00000000e+00],\n",
       "       [1.00000000e+01, 1.40000000e+01, 5.44428039e-02, 2.00000000e+00],\n",
       "       [2.60000000e+01, 2.80000000e+01, 5.44428039e-02, 2.00000000e+00],\n",
       "       [6.20000000e+01, 2.19000000e+02, 5.44428039e-02, 3.00000000e+00],\n",
       "       [5.80000000e+01, 2.32000000e+02, 5.44428039e-02, 4.00000000e+00],\n",
       "       [2.07000000e+02, 2.25000000e+02, 5.44428039e-02, 5.00000000e+00],\n",
       "       [4.00000000e+01, 4.20000000e+01, 5.44428039e-02, 2.00000000e+00],\n",
       "       [5.40000000e+01, 5.70000000e+01, 5.44428039e-02, 2.00000000e+00],\n",
       "       [1.11000000e+02, 2.16000000e+02, 5.44428039e-02, 3.00000000e+00],\n",
       "       [1.08000000e+02, 2.28000000e+02, 5.44428039e-02, 5.00000000e+00],\n",
       "       [9.10000000e+01, 2.38000000e+02, 5.44428039e-02, 6.00000000e+00],\n",
       "       [9.30000000e+01, 2.39000000e+02, 5.44428039e-02, 7.00000000e+00],\n",
       "       [1.12000000e+02, 1.16000000e+02, 5.44428039e-02, 2.00000000e+00],\n",
       "       [1.26000000e+02, 1.32000000e+02, 5.44428039e-02, 2.00000000e+00],\n",
       "       [1.20000000e+01, 2.30000000e+02, 5.44428039e-02, 3.00000000e+00],\n",
       "       [1.47000000e+02, 1.59000000e+02, 5.44428039e-02, 2.00000000e+00],\n",
       "       [2.40000000e+02, 2.41000000e+02, 5.44428039e-02, 9.00000000e+00],\n",
       "       [7.00000000e+01, 7.30000000e+01, 5.44428039e-02, 2.00000000e+00],\n",
       "       [1.37000000e+02, 1.39000000e+02, 5.44428039e-02, 2.00000000e+00],\n",
       "       [3.00000000e+00, 5.00000000e+00, 5.44428039e-02, 2.00000000e+00],\n",
       "       [5.90000000e+01, 2.36000000e+02, 7.63388583e-02, 3.00000000e+00],\n",
       "       [8.70000000e+01, 9.00000000e+01, 7.63388583e-02, 2.00000000e+00],\n",
       "       [1.18000000e+02, 2.45000000e+02, 7.63388583e-02, 1.00000000e+01],\n",
       "       [2.00000000e+00, 6.00000000e+00, 7.63388583e-02, 2.00000000e+00],\n",
       "       [1.65000000e+02, 1.71000000e+02, 7.63388583e-02, 2.00000000e+00],\n",
       "       [1.06000000e+02, 1.15000000e+02, 7.63388583e-02, 2.00000000e+00],\n",
       "       [1.14000000e+02, 2.34000000e+02, 7.63388583e-02, 6.00000000e+00],\n",
       "       [1.34000000e+02, 1.40000000e+02, 7.63388583e-02, 2.00000000e+00],\n",
       "       [8.40000000e+01, 2.27000000e+02, 7.76431214e-02, 6.00000000e+00],\n",
       "       [2.18000000e+02, 2.33000000e+02, 7.76431214e-02, 6.00000000e+00],\n",
       "       [8.30000000e+01, 2.21000000e+02, 7.76431214e-02, 4.00000000e+00],\n",
       "       [2.26000000e+02, 2.59000000e+02, 7.76431214e-02, 6.00000000e+00],\n",
       "       [1.10000000e+02, 2.37000000e+02, 7.76431214e-02, 4.00000000e+00],\n",
       "       [2.54000000e+02, 2.61000000e+02, 7.76431214e-02, 6.00000000e+00],\n",
       "       [2.55000000e+02, 2.62000000e+02, 7.76431214e-02, 1.20000000e+01],\n",
       "       [9.50000000e+01, 2.63000000e+02, 7.76431214e-02, 1.30000000e+01],\n",
       "       [9.60000000e+01, 2.64000000e+02, 7.76431214e-02, 1.40000000e+01],\n",
       "       [2.11000000e+02, 2.65000000e+02, 7.76431214e-02, 1.60000000e+01],\n",
       "       [1.30000000e+01, 1.50000000e+01, 7.76431214e-02, 2.00000000e+00],\n",
       "       [1.48000000e+02, 1.52000000e+02, 7.76431214e-02, 2.00000000e+00],\n",
       "       [1.28000000e+02, 1.30000000e+02, 7.76431214e-02, 2.00000000e+00],\n",
       "       [1.36000000e+02, 2.56000000e+02, 7.76431214e-02, 3.00000000e+00],\n",
       "       [1.76000000e+02, 2.04000000e+02, 7.76431214e-02, 3.00000000e+00],\n",
       "       [1.53000000e+02, 1.57000000e+02, 7.76431214e-02, 2.00000000e+00],\n",
       "       [2.49000000e+02, 2.58000000e+02, 8.56430667e-02, 9.00000000e+00],\n",
       "       [0.00000000e+00, 4.00000000e+00, 8.56430667e-02, 2.00000000e+00],\n",
       "       [5.60000000e+01, 2.73000000e+02, 8.56430667e-02, 1.00000000e+01],\n",
       "       [1.46000000e+02, 1.60000000e+02, 8.56430667e-02, 2.00000000e+00],\n",
       "       [1.64000000e+02, 1.68000000e+02, 8.56430667e-02, 2.00000000e+00],\n",
       "       [1.33000000e+02, 2.47000000e+02, 8.56430667e-02, 3.00000000e+00],\n",
       "       [1.87000000e+02, 1.91000000e+02, 8.56430667e-02, 2.00000000e+00],\n",
       "       [8.90000000e+01, 2.66000000e+02, 8.56430667e-02, 1.70000000e+01],\n",
       "       [1.22000000e+02, 2.17000000e+02, 8.56430667e-02, 3.00000000e+00],\n",
       "       [7.20000000e+01, 2.75000000e+02, 8.56430667e-02, 1.10000000e+01],\n",
       "       [1.86000000e+02, 1.90000000e+02, 8.56430667e-02, 2.00000000e+00],\n",
       "       [1.43000000e+02, 2.29000000e+02, 8.56430667e-02, 4.00000000e+00],\n",
       "       [2.44000000e+02, 2.72000000e+02, 8.65179729e-02, 4.00000000e+00],\n",
       "       [5.00000000e+01, 5.20000000e+01, 8.65179729e-02, 2.00000000e+00],\n",
       "       [8.60000000e+01, 8.80000000e+01, 8.65179729e-02, 2.00000000e+00],\n",
       "       [1.25000000e+02, 2.03000000e+02, 8.65179729e-02, 3.00000000e+00],\n",
       "       [1.81000000e+02, 1.83000000e+02, 8.65179729e-02, 2.00000000e+00],\n",
       "       [2.82000000e+02, 2.86000000e+02, 1.08885608e-01, 1.30000000e+01],\n",
       "       [3.80000000e+01, 4.40000000e+01, 1.08885608e-01, 2.00000000e+00],\n",
       "       [1.17000000e+02, 2.81000000e+02, 1.08885608e-01, 4.00000000e+00],\n",
       "       [2.69000000e+02, 2.70000000e+02, 1.08885608e-01, 5.00000000e+00],\n",
       "       [2.78000000e+02, 2.88000000e+02, 1.08885608e-01, 6.00000000e+00],\n",
       "       [1.60000000e+01, 2.00000000e+01, 1.14508288e-01, 2.00000000e+00],\n",
       "       [3.00000000e+01, 3.20000000e+01, 1.14508288e-01, 2.00000000e+00],\n",
       "       [2.15000000e+02, 2.46000000e+02, 1.14508288e-01, 4.00000000e+00],\n",
       "       [2.50000000e+02, 2.57000000e+02, 1.14508288e-01, 8.00000000e+00],\n",
       "       [2.80000000e+02, 2.98000000e+02, 1.14508288e-01, 2.50000000e+01],\n",
       "       [1.02000000e+02, 2.92000000e+02, 1.14508288e-01, 5.00000000e+00],\n",
       "       [2.87000000e+02, 2.99000000e+02, 1.16464682e-01, 2.70000000e+01],\n",
       "       [2.51000000e+02, 3.01000000e+02, 1.16464682e-01, 3.70000000e+01],\n",
       "       [2.60000000e+02, 3.02000000e+02, 1.16464682e-01, 4.30000000e+01],\n",
       "       [3.00000000e+02, 3.03000000e+02, 1.16464682e-01, 4.80000000e+01],\n",
       "       [1.21000000e+02, 3.04000000e+02, 1.16464682e-01, 4.90000000e+01],\n",
       "       [2.13000000e+02, 2.68000000e+02, 1.16464682e-01, 4.00000000e+00],\n",
       "       [1.72000000e+02, 2.71000000e+02, 1.16464682e-01, 4.00000000e+00],\n",
       "       [2.48000000e+02, 2.67000000e+02, 1.20910138e-01, 4.00000000e+00],\n",
       "       [2.90000000e+02, 2.97000000e+02, 1.20910138e-01, 1.70000000e+01],\n",
       "       [1.38000000e+02, 2.93000000e+02, 1.20910138e-01, 6.00000000e+00],\n",
       "       [4.30000000e+01, 2.06000000e+02, 1.20910138e-01, 3.00000000e+00],\n",
       "       [1.35000000e+02, 2.84000000e+02, 1.20910138e-01, 5.00000000e+00],\n",
       "       [5.50000000e+01, 2.00000000e+02, 1.20910138e-01, 3.00000000e+00],\n",
       "       [4.60000000e+01, 3.09000000e+02, 1.20910138e-01, 1.80000000e+01],\n",
       "       [1.67000000e+02, 1.73000000e+02, 1.22559894e-01, 2.00000000e+00],\n",
       "       [3.40000000e+01, 3.60000000e+01, 1.22559894e-01, 2.00000000e+00],\n",
       "       [2.05000000e+02, 3.14000000e+02, 1.22559894e-01, 2.10000000e+01],\n",
       "       [8.00000000e+00, 2.52000000e+02, 1.22559894e-01, 3.00000000e+00],\n",
       "       [3.70000000e+01, 3.90000000e+01, 1.38349565e-01, 2.00000000e+00],\n",
       "       [1.44000000e+02, 3.10000000e+02, 1.38349565e-01, 7.00000000e+00],\n",
       "       [2.85000000e+02, 2.94000000e+02, 1.38349565e-01, 1.00000000e+01],\n",
       "       [4.70000000e+01, 3.17000000e+02, 1.38349565e-01, 2.20000000e+01],\n",
       "       [3.10000000e+01, 3.19000000e+02, 1.52677717e-01, 3.00000000e+00],\n",
       "       [3.13000000e+02, 3.22000000e+02, 1.55286243e-01, 2.50000000e+01],\n",
       "       [4.50000000e+01, 3.11000000e+02, 1.55286243e-01, 4.00000000e+00],\n",
       "       [3.24000000e+02, 3.25000000e+02, 1.57536024e-01, 2.90000000e+01],\n",
       "       [3.05000000e+02, 3.26000000e+02, 1.57536024e-01, 7.80000000e+01],\n",
       "       [1.10000000e+01, 1.90000000e+01, 1.57536024e-01, 2.00000000e+00],\n",
       "       [1.42000000e+02, 2.76000000e+02, 1.59908482e-01, 3.00000000e+00],\n",
       "       [1.00000000e+00, 3.08000000e+02, 1.59908482e-01, 5.00000000e+00],\n",
       "       [3.06000000e+02, 3.20000000e+02, 1.59908482e-01, 1.10000000e+01],\n",
       "       [1.41000000e+02, 3.12000000e+02, 1.63328412e-01, 6.00000000e+00],\n",
       "       [1.63000000e+02, 3.32000000e+02, 1.63328412e-01, 7.00000000e+00],\n",
       "       [1.27000000e+02, 3.33000000e+02, 1.71286133e-01, 8.00000000e+00],\n",
       "       [9.00000000e+00, 3.30000000e+02, 1.73035946e-01, 6.00000000e+00],\n",
       "       [1.23000000e+02, 3.34000000e+02, 1.73035946e-01, 9.00000000e+00],\n",
       "       [1.45000000e+02, 3.36000000e+02, 1.73035946e-01, 1.00000000e+01],\n",
       "       [2.40000000e+01, 3.16000000e+02, 1.90847146e-01, 3.00000000e+00],\n",
       "       [3.30000000e+01, 4.10000000e+01, 1.90847146e-01, 2.00000000e+00],\n",
       "       [7.10000000e+01, 3.27000000e+02, 1.90847146e-01, 7.90000000e+01],\n",
       "       [2.12000000e+02, 3.23000000e+02, 1.90847146e-01, 5.00000000e+00],\n",
       "       [2.31000000e+02, 2.95000000e+02, 1.92027361e-01, 4.00000000e+00],\n",
       "       [1.61000000e+02, 3.37000000e+02, 1.92940315e-01, 1.10000000e+01],\n",
       "       [2.02000000e+02, 3.31000000e+02, 1.92940315e-01, 1.30000000e+01],\n",
       "       [1.62000000e+02, 3.44000000e+02, 1.92940315e-01, 1.40000000e+01],\n",
       "       [2.50000000e+01, 3.50000000e+01, 1.94755608e-01, 2.00000000e+00],\n",
       "       [3.35000000e+02, 3.41000000e+02, 1.94755608e-01, 1.10000000e+01],\n",
       "       [2.20000000e+01, 2.96000000e+02, 1.94755608e-01, 3.00000000e+00],\n",
       "       [1.78000000e+02, 3.07000000e+02, 1.94755608e-01, 5.00000000e+00],\n",
       "       [1.82000000e+02, 3.49000000e+02, 1.94755608e-01, 6.00000000e+00],\n",
       "       [2.90000000e+01, 3.46000000e+02, 1.97825036e-01, 3.00000000e+00],\n",
       "       [7.00000000e+00, 3.28000000e+02, 1.97825036e-01, 3.00000000e+00],\n",
       "       [3.21000000e+02, 3.43000000e+02, 1.97825036e-01, 2.10000000e+01],\n",
       "       [1.88000000e+02, 3.50000000e+02, 2.06036617e-01, 7.00000000e+00],\n",
       "       [3.15000000e+02, 3.53000000e+02, 2.06036617e-01, 2.30000000e+01],\n",
       "       [2.42000000e+02, 3.29000000e+02, 2.06036617e-01, 5.00000000e+00],\n",
       "       [1.79000000e+02, 2.89000000e+02, 2.06036617e-01, 3.00000000e+00],\n",
       "       [1.66000000e+02, 3.54000000e+02, 2.08579627e-01, 8.00000000e+00],\n",
       "       [1.24000000e+02, 3.56000000e+02, 2.08579627e-01, 6.00000000e+00],\n",
       "       [1.89000000e+02, 3.57000000e+02, 2.23576956e-01, 4.00000000e+00],\n",
       "       [1.80000000e+01, 3.42000000e+02, 2.23576956e-01, 5.00000000e+00],\n",
       "       [2.83000000e+02, 3.58000000e+02, 2.32929364e-01, 1.00000000e+01],\n",
       "       [2.35000000e+02, 3.40000000e+02, 2.36036002e-01, 8.10000000e+01],\n",
       "       [2.77000000e+02, 3.62000000e+02, 2.36036002e-01, 1.20000000e+01],\n",
       "       [1.77000000e+02, 2.53000000e+02, 2.36036002e-01, 3.00000000e+00],\n",
       "       [1.69000000e+02, 3.65000000e+02, 2.36036002e-01, 4.00000000e+00],\n",
       "       [1.75000000e+02, 3.55000000e+02, 2.36036002e-01, 2.40000000e+01],\n",
       "       [3.18000000e+02, 3.48000000e+02, 2.41820276e-01, 6.00000000e+00],\n",
       "       [3.60000000e+02, 3.67000000e+02, 2.41820276e-01, 2.80000000e+01],\n",
       "       [1.70000000e+01, 3.47000000e+02, 2.45119787e-01, 1.20000000e+01],\n",
       "       [2.74000000e+02, 3.61000000e+02, 2.46958143e-01, 7.00000000e+00],\n",
       "       [3.59000000e+02, 3.63000000e+02, 2.46958143e-01, 8.70000000e+01],\n",
       "       [3.39000000e+02, 3.51000000e+02, 2.46958143e-01, 5.00000000e+00],\n",
       "       [3.66000000e+02, 3.69000000e+02, 2.69991619e-01, 3.20000000e+01],\n",
       "       [2.91000000e+02, 3.72000000e+02, 2.74418422e-01, 8.90000000e+01],\n",
       "       [3.70000000e+02, 3.73000000e+02, 2.78507763e-01, 1.70000000e+01],\n",
       "       [2.43000000e+02, 3.68000000e+02, 2.82269705e-01, 9.00000000e+00],\n",
       "       [1.80000000e+02, 1.84000000e+02, 2.82269705e-01, 2.00000000e+00],\n",
       "       [3.45000000e+02, 3.64000000e+02, 3.00210644e-01, 2.60000000e+01],\n",
       "       [1.95000000e+02, 1.97000000e+02, 3.00210644e-01, 2.00000000e+00],\n",
       "       [3.38000000e+02, 3.77000000e+02, 3.07813343e-01, 1.20000000e+01],\n",
       "       [2.70000000e+01, 3.76000000e+02, 3.30251723e-01, 1.80000000e+01],\n",
       "       [3.78000000e+02, 3.79000000e+02, 3.46071891e-01, 2.80000000e+01],\n",
       "       [1.85000000e+02, 3.74000000e+02, 3.51472766e-01, 3.30000000e+01],\n",
       "       [3.71000000e+02, 3.75000000e+02, 3.61828385e-01, 9.60000000e+01],\n",
       "       [3.82000000e+02, 3.85000000e+02, 3.64524213e-01, 1.14000000e+02],\n",
       "       [3.81000000e+02, 3.86000000e+02, 3.67679681e-01, 1.26000000e+02],\n",
       "       [3.83000000e+02, 3.87000000e+02, 4.08767056e-01, 1.54000000e+02],\n",
       "       [1.92000000e+02, 1.94000000e+02, 4.09687234e-01, 2.00000000e+00],\n",
       "       [3.52000000e+02, 3.88000000e+02, 4.47153912e-01, 1.57000000e+02],\n",
       "       [1.93000000e+02, 3.84000000e+02, 4.47153912e-01, 3.40000000e+01],\n",
       "       [2.79000000e+02, 3.91000000e+02, 4.97718910e-01, 3.60000000e+01],\n",
       "       [3.89000000e+02, 3.90000000e+02, 5.17461817e-01, 1.59000000e+02],\n",
       "       [3.92000000e+02, 3.93000000e+02, 5.17507819e-01, 1.95000000e+02],\n",
       "       [1.96000000e+02, 3.94000000e+02, 5.19107837e-01, 1.96000000e+02],\n",
       "       [3.80000000e+02, 3.95000000e+02, 5.37040702e-01, 1.98000000e+02],\n",
       "       [1.99000000e+02, 3.96000000e+02, 5.46224994e-01, 1.99000000e+02],\n",
       "       [1.98000000e+02, 3.97000000e+02, 5.71836429e-01, 2.00000000e+02]])"
      ]
     },
     "execution_count": 68,
     "metadata": {},
     "output_type": "execute_result"
    }
   ],
   "source": [
    "from scipy.cluster.hierarchy import dendrogram , linkage\n",
    "\n",
    "link_method = linkage(x)\n",
    "link_method"
   ]
  },
  {
   "cell_type": "code",
   "execution_count": 69,
   "id": "0ee315d5",
   "metadata": {},
   "outputs": [
    {
     "data": {
      "image/png": "[encoded data removed]",
      "text/plain": [
       "<Figure size 640x480 with 1 Axes>"
      ]
     },
     "metadata": {},
     "output_type": "display_data"
    }
   ],
   "source": [
    "dend = dendrogram(link_method, p = 10)"
   ]
  },
  {
   "cell_type": "code",
   "execution_count": 71,
   "id": "4581d81b",
   "metadata": {},
   "outputs": [
    {
     "data": {
      "text/plain": [
       "array([2, 2, 2, 2, 2, 2, 2, 2, 2, 2, 2, 2, 2, 2, 2, 2, 2, 2, 2, 2, 2, 2,\n",
       "       2, 2, 2, 2, 2, 2, 2, 2, 2, 2, 2, 2, 2, 2, 2, 2, 2, 2, 2, 2, 2, 2,\n",
       "       2, 2, 2, 2, 2, 2, 2, 2, 2, 2, 2, 2, 2, 2, 2, 2, 2, 2, 2, 2, 2, 2,\n",
       "       2, 2, 2, 2, 2, 2, 2, 2, 2, 2, 2, 2, 2, 2, 2, 2, 2, 2, 2, 2, 2, 2,\n",
       "       2, 2, 2, 2, 2, 2, 2, 2, 2, 2, 2, 2, 2, 2, 2, 2, 2, 2, 2, 2, 2, 2,\n",
       "       2, 2, 2, 2, 2, 2, 2, 2, 2, 2, 2, 2, 2, 2, 2, 2, 2, 2, 2, 2, 2, 2,\n",
       "       2, 2, 2, 2, 2, 2, 2, 2, 2, 2, 2, 2, 2, 2, 2, 2, 2, 2, 2, 2, 2, 2,\n",
       "       2, 2, 2, 2, 2, 2, 2, 2, 2, 2, 2, 2, 2, 2, 2, 2, 2, 2, 2, 2, 2, 2,\n",
       "       2, 2, 2, 2, 2, 2, 2, 2, 2, 2, 2, 2, 2, 2, 2, 2, 2, 2, 2, 1, 3, 1,\n",
       "       5, 4], dtype=int32)"
      ]
     },
     "execution_count": 71,
     "metadata": {},
     "output_type": "execute_result"
    }
   ],
   "source": [
    "from scipy.cluster.hierarchy import fcluster\n",
    "cluster = fcluster(link_method , 5 , criterion='maxclust')\n",
    "cluster"
   ]
  },
  {
   "cell_type": "code",
   "execution_count": 72,
   "id": "c2cc20ef",
   "metadata": {},
   "outputs": [],
   "source": [
    "data['d_cluster'] = cluster"
   ]
  },
  {
   "cell_type": "code",
   "execution_count": 73,
   "id": "b583ccbb",
   "metadata": {},
   "outputs": [
    {
     "data": {
      "text/html": [
       "<div>\n",
       "<style scoped>\n",
       "    .dataframe tbody tr th:only-of-type {\n",
       "        vertical-align: middle;\n",
       "    }\n",
       "\n",
       "    .dataframe tbody tr th {\n",
       "        vertical-align: top;\n",
       "    }\n",
       "\n",
       "    .dataframe thead th {\n",
       "        text-align: right;\n",
       "    }\n",
       "</style>\n",
       "<table border=\"1\" class=\"dataframe\">\n",
       "  <thead>\n",
       "    <tr style=\"text-align: right;\">\n",
       "      <th></th>\n",
       "      <th>CustomerID</th>\n",
       "      <th>Gender</th>\n",
       "      <th>Age</th>\n",
       "      <th>Annual Income (k$)</th>\n",
       "      <th>Spending Score (1-100)</th>\n",
       "      <th>d_cluster</th>\n",
       "    </tr>\n",
       "  </thead>\n",
       "  <tbody>\n",
       "    <tr>\n",
       "      <th>0</th>\n",
       "      <td>1</td>\n",
       "      <td>Male</td>\n",
       "      <td>19</td>\n",
       "      <td>15</td>\n",
       "      <td>39</td>\n",
       "      <td>2</td>\n",
       "    </tr>\n",
       "    <tr>\n",
       "      <th>1</th>\n",
       "      <td>2</td>\n",
       "      <td>Male</td>\n",
       "      <td>21</td>\n",
       "      <td>15</td>\n",
       "      <td>81</td>\n",
       "      <td>2</td>\n",
       "    </tr>\n",
       "    <tr>\n",
       "      <th>2</th>\n",
       "      <td>3</td>\n",
       "      <td>Female</td>\n",
       "      <td>20</td>\n",
       "      <td>16</td>\n",
       "      <td>6</td>\n",
       "      <td>2</td>\n",
       "    </tr>\n",
       "    <tr>\n",
       "      <th>3</th>\n",
       "      <td>4</td>\n",
       "      <td>Female</td>\n",
       "      <td>23</td>\n",
       "      <td>16</td>\n",
       "      <td>77</td>\n",
       "      <td>2</td>\n",
       "    </tr>\n",
       "    <tr>\n",
       "      <th>4</th>\n",
       "      <td>5</td>\n",
       "      <td>Female</td>\n",
       "      <td>31</td>\n",
       "      <td>17</td>\n",
       "      <td>40</td>\n",
       "      <td>2</td>\n",
       "    </tr>\n",
       "    <tr>\n",
       "      <th>...</th>\n",
       "      <td>...</td>\n",
       "      <td>...</td>\n",
       "      <td>...</td>\n",
       "      <td>...</td>\n",
       "      <td>...</td>\n",
       "      <td>...</td>\n",
       "    </tr>\n",
       "    <tr>\n",
       "      <th>195</th>\n",
       "      <td>196</td>\n",
       "      <td>Female</td>\n",
       "      <td>35</td>\n",
       "      <td>120</td>\n",
       "      <td>79</td>\n",
       "      <td>1</td>\n",
       "    </tr>\n",
       "    <tr>\n",
       "      <th>196</th>\n",
       "      <td>197</td>\n",
       "      <td>Female</td>\n",
       "      <td>45</td>\n",
       "      <td>126</td>\n",
       "      <td>28</td>\n",
       "      <td>3</td>\n",
       "    </tr>\n",
       "    <tr>\n",
       "      <th>197</th>\n",
       "      <td>198</td>\n",
       "      <td>Male</td>\n",
       "      <td>32</td>\n",
       "      <td>126</td>\n",
       "      <td>74</td>\n",
       "      <td>1</td>\n",
       "    </tr>\n",
       "    <tr>\n",
       "      <th>198</th>\n",
       "      <td>199</td>\n",
       "      <td>Male</td>\n",
       "      <td>32</td>\n",
       "      <td>137</td>\n",
       "      <td>18</td>\n",
       "      <td>5</td>\n",
       "    </tr>\n",
       "    <tr>\n",
       "      <th>199</th>\n",
       "      <td>200</td>\n",
       "      <td>Male</td>\n",
       "      <td>30</td>\n",
       "      <td>137</td>\n",
       "      <td>83</td>\n",
       "      <td>4</td>\n",
       "    </tr>\n",
       "  </tbody>\n",
       "</table>\n",
       "<p>200 rows × 6 columns</p>\n",
       "</div>"
      ],
      "text/plain": [
       "     CustomerID  Gender  Age  Annual Income (k$)  Spending Score (1-100)  \\\n",
       "0             1    Male   19                  15                      39   \n",
       "1             2    Male   21                  15                      81   \n",
       "2             3  Female   20                  16                       6   \n",
       "3             4  Female   23                  16                      77   \n",
       "4             5  Female   31                  17                      40   \n",
       "..          ...     ...  ...                 ...                     ...   \n",
       "195         196  Female   35                 120                      79   \n",
       "196         197  Female   45                 126                      28   \n",
       "197         198    Male   32                 126                      74   \n",
       "198         199    Male   32                 137                      18   \n",
       "199         200    Male   30                 137                      83   \n",
       "\n",
       "     d_cluster  \n",
       "0            2  \n",
       "1            2  \n",
       "2            2  \n",
       "3            2  \n",
       "4            2  \n",
       "..         ...  \n",
       "195          1  \n",
       "196          3  \n",
       "197          1  \n",
       "198          5  \n",
       "199          4  \n",
       "\n",
       "[200 rows x 6 columns]"
      ]
     },
     "execution_count": 73,
     "metadata": {},
     "output_type": "execute_result"
    }
   ],
   "source": [
    "data"
   ]
  },
  {
   "cell_type": "code",
   "execution_count": null,
   "id": "ed8d6c0e",
   "metadata": {},
   "outputs": [],
   "source": []
  }
 ],
 "metadata": {
  "kernelspec": {
   "display_name": "Python 3 (ipykernel)",
   "language": "python",
   "name": "python3"
  },
  "language_info": {
   "codemirror_mode": {
    "name": "ipython",
    "version": 3
   },
   "file_extension": ".py",
   "mimetype": "text/x-python",
   "name": "python",
   "nbconvert_exporter": "python",
   "pygments_lexer": "ipython3",
   "version": "3.11.5"
  }
 },
 "nbformat": 4,
 "nbformat_minor": 5
}
